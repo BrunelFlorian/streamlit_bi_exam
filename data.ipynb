{
 "cells": [
  {
   "cell_type": "markdown",
   "metadata": {},
   "source": [
    "### Scinder les stations en deux groupes avec carrefour d'un côté et sans carrefour de l'autre "
   ]
  },
  {
   "cell_type": "code",
   "execution_count": null,
   "metadata": {},
   "outputs": [],
   "source": [
    "# import pandas as pd\n",
    "\n",
    "# # Charger le fichier infos_stations.csv\n",
    "# infos_stations = pd.read_csv(\"data/stations.csv\")\n",
    "\n",
    "# # Filtrer les stations Carrefour\n",
    "# carrefour_stations = infos_stations[\n",
    "#     infos_stations['Enseignes'].str.contains(\"Carrefour|CRF\", na=False, case=False)\n",
    "# ]\n",
    "# concurrent_stations = infos_stations[~infos_stations['Enseignes'].str.contains(\"Carrefour|CRF\", na=False, case=False)]\n",
    "\n",
    "# # Sauvegarder les fichiers filtrés\n",
    "# carrefour_stations.to_csv(\"Carrefour.csv\", index=False)\n",
    "# concurrent_stations.to_csv(\"Concurrents.csv\", index=False)"
   ]
  },
  {
   "cell_type": "markdown",
   "metadata": {},
   "source": [
    "### Trouver les concurrents dans un rayon de 10 km pour chaque station Carrefour "
   ]
  },
  {
   "cell_type": "code",
   "execution_count": null,
   "metadata": {},
   "outputs": [],
   "source": [
    "# import pandas as pd \n",
    "# import math\n",
    "# import json\n",
    "\n",
    "# def haversine(lat1, lon1, lat2, lon2):\n",
    "#     # Convertir les degrés en radians\n",
    "#     lat1, lon1, lat2, lon2 = map(math.radians, [lat1, lon1, lat2, lon2])\n",
    "#     # Rayon moyen de la Terre en kilomètres\n",
    "#     R = 6371.0\n",
    "#     # Différences de coordonnées\n",
    "#     dlat = lat2 - lat1\n",
    "#     dlon = lon2 - lon1\n",
    "#     # Formule de Haversine\n",
    "#     a = math.sin(dlat / 2)**2 + math.cos(lat1) * math.cos(lat2) * math.sin(dlon /\n",
    "#     2)**2\n",
    "#     c = 2 * math.atan2(math.sqrt(a), math.sqrt(1 - a))\n",
    "#     # Distance en kilomètres\n",
    "#     distance = R * c\n",
    "#     return distance\n",
    "\n",
    "# # Charger les données\n",
    "# concurrents = pd.read_csv(\"Concurrents.csv\")\n",
    "# carrefours = pd.read_csv(\"Carrefour.csv\")\n",
    "\n",
    "# # Formater les latitudes et longitudes\n",
    "# concurrents[\"ID\"] = concurrents[\"ID\"].apply(str)\n",
    "# concurrents[\"Latitude\"] = concurrents[\"Latitude\"].apply(float)/100000\n",
    "# concurrents[\"Longitude\"] = concurrents[\"Longitude\"].apply(float)/100000\n",
    "# D1 = {concurrents.loc[id,\"ID\"] : (concurrents.loc[id,\"Latitude\"],concurrents.loc[id,\"Longitude\"]) for id in concurrents.index}\n",
    "\n",
    "# carrefours[\"ID\"] = carrefours[\"ID\"].apply(str)\n",
    "# carrefours[\"Latitude\"] = carrefours[\"Latitude\"].apply(float)/100000\n",
    "# carrefours[\"Longitude\"] = carrefours[\"Longitude\"].apply(float)/100000\n",
    "# D2 = {carrefours.loc[id,\"ID\"] : (carrefours.loc[id,\"Latitude\"],carrefours.loc[id,\"Longitude\"]) for id in carrefours.index}\n",
    "\n",
    "# # Liste des concurrents dans un rayon de 10 km\n",
    "# D = dict()\n",
    "# def list_concurrents(id):\n",
    "#     L_conc = list()\n",
    "#     for x in D1:\n",
    "#         d = haversine(D2[id][0], D2[id][1], D1[x][0], D1[x][1])\n",
    "#         if d <= 10:\n",
    "#             L_conc.append(x)\n",
    "#     return L_conc\n",
    "\n",
    "# # Créer un dictionnaire pour stocker les concurrents\n",
    "# D = {id : list_concurrents(id) for id in D2}\n",
    "\n",
    "# # Sauvegarder les données dans un fichier JSON\n",
    "# with open(\"concurrents_10km.json\", \"w\") as json_file:\n",
    "#     json.dump(D, json_file, indent=4)"
   ]
  }
 ],
 "metadata": {
  "kernelspec": {
   "display_name": "Python 3",
   "language": "python",
   "name": "python3"
  },
  "language_info": {
   "codemirror_mode": {
    "name": "ipython",
    "version": 3
   },
   "file_extension": ".py",
   "mimetype": "text/x-python",
   "name": "python",
   "nbconvert_exporter": "python",
   "pygments_lexer": "ipython3",
   "version": "3.11.10"
  }
 },
 "nbformat": 4,
 "nbformat_minor": 2
}
